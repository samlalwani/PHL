{
 "cells": [
  {
   "cell_type": "code",
   "execution_count": 1,
   "metadata": {},
   "outputs": [],
   "source": [
    "import ipywidgets as widgets\n",
    "from ipywidgets import  Layout\n",
    "from IPython.display import display\n",
    "import pandas as pd\n",
    "import numpy as np\n",
    "\n",
    "\n",
    "from filter_calc import cfu_calc"
   ]
  },
  {
   "cell_type": "code",
   "execution_count": 2,
   "metadata": {},
   "outputs": [],
   "source": [
    "def highlight_row(row):\n",
    "    '''\n",
    "    highlight the row where shade = True.\n",
    "    '''\n",
    "    if row['shade']:        \n",
    "        return ['background-color: yellow' for i in range(row.shape[0])]\n",
    "    else :\n",
    "        return ['background-color: white' for i in range(row.shape[0])] "
   ]
  },
  {
   "cell_type": "code",
   "execution_count": 3,
   "metadata": {},
   "outputs": [],
   "source": [
    "mEndo_typ = [0, 0, 4, 21, 0, 0]\n",
    "mEndo_atyp = [1, 7, 17, 0, 0, 0]\n",
    "\n",
    "mFc_typ = [0, 0, 1, 0, 0, 0]\n",
    "mFc_atyp = [0, 0, 0, 0, 0, 0]\n",
    "\n"
   ]
  },
  {
   "cell_type": "code",
   "execution_count": 4,
   "metadata": {},
   "outputs": [],
   "source": [
    "box_dilution_factor = widgets.VBox([widgets.Label(value=\"Dilution Factor\",layout=Layout(width='15'))] + [widgets.Label(value=str(i)) for i in [1,1,1,0.1,0.01,0.001]])\n",
    "box_volume_ml = widgets.VBox([widgets.Label(value=\"Volume mL\")] + [widgets.Label(value=str(i)) for i in [0.5,5,50]]*2)"
   ]
  },
  {
   "cell_type": "code",
   "execution_count": 5,
   "metadata": {},
   "outputs": [],
   "source": [
    "box_mEndo_typ = widgets.VBox([widgets.Label(value=\"mEndo Typical\")] + [widgets.Text(value='0',layout=Layout(width='auto')) for i in range(6)])\n",
    "box_mEndo_atyp = widgets.VBox([widgets.Label(value=\"mEndo Atypical\")] + [widgets.Text(value='0',layout=Layout(width='auto')) for i in range(6)])\n",
    "box_mFC_typ = widgets.VBox([widgets.Label(value=\"mFC Typical\")] + [widgets.Text(value='0',layout=Layout(width='auto')) for i in range(6)])\n",
    "box_mFC_atyp = widgets.VBox([widgets.Label(value=\"mFC Atypical\")] + [widgets.Text(value='0',layout=Layout(width='auto')) for i in range(6)])"
   ]
  },
  {
   "cell_type": "code",
   "execution_count": 6,
   "metadata": {},
   "outputs": [],
   "source": [
    "w = widgets.HBox([box_dilution_factor, box_volume_ml,box_mEndo_typ,box_mEndo_atyp,box_mFC_typ,box_mFC_atyp], border=True)"
   ]
  },
  {
   "cell_type": "code",
   "execution_count": 7,
   "metadata": {},
   "outputs": [
    {
     "data": {
      "application/vnd.jupyter.widget-view+json": {
       "model_id": "f19ccee83a3648c1885ada338e195c99",
       "version_major": 2,
       "version_minor": 0
      },
      "text/plain": [
       "HBox(children=(VBox(children=(Label(value='Dilution Factor', layout=Layout(width='15')), Label(value='1'), Lab…"
      ]
     },
     "metadata": {},
     "output_type": "display_data"
    }
   ],
   "source": [
    "display(w)"
   ]
  },
  {
   "cell_type": "code",
   "execution_count": null,
   "metadata": {},
   "outputs": [],
   "source": []
  },
  {
   "cell_type": "code",
   "execution_count": 8,
   "metadata": {},
   "outputs": [],
   "source": [
    "mEndo_typ = [item.value for item in list(box_mEndo_typ.children)[1:]]\n",
    "mEndo_atyp= [item.value for item in list(box_mEndo_atyp.children)[1:]]\n",
    "mFc_typ= [item.value for item in list(box_mFC_typ.children)[1:]]\n",
    "mFc_atyp= [item.value for item in list(box_mFC_atyp.children)[1:]]"
   ]
  },
  {
   "cell_type": "code",
   "execution_count": 9,
   "metadata": {},
   "outputs": [],
   "source": [
    "results = cfu_calc(mEndo_typ, mEndo_atyp, mFc_typ, mFc_atyp)"
   ]
  },
  {
   "cell_type": "code",
   "execution_count": 10,
   "metadata": {},
   "outputs": [],
   "source": [
    "results_mEndo = results.loc[results.Coliforms=='mEndo', ['Dilution Factor', 'Volume mL', 'Typical Colonies', 'Atypical Colonies', 'shade']]\n",
    "results_mFC = results.loc[results.Coliforms=='mFC', ['Dilution Factor', 'Volume mL', 'Typical Colonies', 'Atypical Colonies', 'shade']]"
   ]
  },
  {
   "cell_type": "code",
   "execution_count": 11,
   "metadata": {},
   "outputs": [
    {
     "data": {
      "text/html": [
       "<style  type=\"text/css\" >\n",
       "    #T_f5ef07ae_1c6a_11e9_b87d_704d7b4149fdrow0_col0 {\n",
       "            background-color:  white;\n",
       "        }    #T_f5ef07ae_1c6a_11e9_b87d_704d7b4149fdrow0_col1 {\n",
       "            background-color:  white;\n",
       "        }    #T_f5ef07ae_1c6a_11e9_b87d_704d7b4149fdrow0_col2 {\n",
       "            background-color:  white;\n",
       "        }    #T_f5ef07ae_1c6a_11e9_b87d_704d7b4149fdrow0_col3 {\n",
       "            background-color:  white;\n",
       "        }    #T_f5ef07ae_1c6a_11e9_b87d_704d7b4149fdrow0_col4 {\n",
       "            background-color:  white;\n",
       "        }    #T_f5ef07ae_1c6a_11e9_b87d_704d7b4149fdrow1_col0 {\n",
       "            background-color:  white;\n",
       "        }    #T_f5ef07ae_1c6a_11e9_b87d_704d7b4149fdrow1_col1 {\n",
       "            background-color:  white;\n",
       "        }    #T_f5ef07ae_1c6a_11e9_b87d_704d7b4149fdrow1_col2 {\n",
       "            background-color:  white;\n",
       "        }    #T_f5ef07ae_1c6a_11e9_b87d_704d7b4149fdrow1_col3 {\n",
       "            background-color:  white;\n",
       "        }    #T_f5ef07ae_1c6a_11e9_b87d_704d7b4149fdrow1_col4 {\n",
       "            background-color:  white;\n",
       "        }    #T_f5ef07ae_1c6a_11e9_b87d_704d7b4149fdrow2_col0 {\n",
       "            background-color:  white;\n",
       "        }    #T_f5ef07ae_1c6a_11e9_b87d_704d7b4149fdrow2_col1 {\n",
       "            background-color:  white;\n",
       "        }    #T_f5ef07ae_1c6a_11e9_b87d_704d7b4149fdrow2_col2 {\n",
       "            background-color:  white;\n",
       "        }    #T_f5ef07ae_1c6a_11e9_b87d_704d7b4149fdrow2_col3 {\n",
       "            background-color:  white;\n",
       "        }    #T_f5ef07ae_1c6a_11e9_b87d_704d7b4149fdrow2_col4 {\n",
       "            background-color:  white;\n",
       "        }    #T_f5ef07ae_1c6a_11e9_b87d_704d7b4149fdrow3_col0 {\n",
       "            background-color:  white;\n",
       "        }    #T_f5ef07ae_1c6a_11e9_b87d_704d7b4149fdrow3_col1 {\n",
       "            background-color:  white;\n",
       "        }    #T_f5ef07ae_1c6a_11e9_b87d_704d7b4149fdrow3_col2 {\n",
       "            background-color:  white;\n",
       "        }    #T_f5ef07ae_1c6a_11e9_b87d_704d7b4149fdrow3_col3 {\n",
       "            background-color:  white;\n",
       "        }    #T_f5ef07ae_1c6a_11e9_b87d_704d7b4149fdrow3_col4 {\n",
       "            background-color:  white;\n",
       "        }    #T_f5ef07ae_1c6a_11e9_b87d_704d7b4149fdrow4_col0 {\n",
       "            background-color:  white;\n",
       "        }    #T_f5ef07ae_1c6a_11e9_b87d_704d7b4149fdrow4_col1 {\n",
       "            background-color:  white;\n",
       "        }    #T_f5ef07ae_1c6a_11e9_b87d_704d7b4149fdrow4_col2 {\n",
       "            background-color:  white;\n",
       "        }    #T_f5ef07ae_1c6a_11e9_b87d_704d7b4149fdrow4_col3 {\n",
       "            background-color:  white;\n",
       "        }    #T_f5ef07ae_1c6a_11e9_b87d_704d7b4149fdrow4_col4 {\n",
       "            background-color:  white;\n",
       "        }    #T_f5ef07ae_1c6a_11e9_b87d_704d7b4149fdrow5_col0 {\n",
       "            background-color:  yellow;\n",
       "        }    #T_f5ef07ae_1c6a_11e9_b87d_704d7b4149fdrow5_col1 {\n",
       "            background-color:  yellow;\n",
       "        }    #T_f5ef07ae_1c6a_11e9_b87d_704d7b4149fdrow5_col2 {\n",
       "            background-color:  yellow;\n",
       "        }    #T_f5ef07ae_1c6a_11e9_b87d_704d7b4149fdrow5_col3 {\n",
       "            background-color:  yellow;\n",
       "        }    #T_f5ef07ae_1c6a_11e9_b87d_704d7b4149fdrow5_col4 {\n",
       "            background-color:  yellow;\n",
       "        }</style>  \n",
       "<table id=\"T_f5ef07ae_1c6a_11e9_b87d_704d7b4149fd\" > \n",
       "<thead>    <tr> \n",
       "        <th class=\"col_heading level0 col0\" >Dilution Factor</th> \n",
       "        <th class=\"col_heading level0 col1\" >Volume mL</th> \n",
       "        <th class=\"col_heading level0 col2\" >Typical Colonies</th> \n",
       "        <th class=\"col_heading level0 col3\" >Atypical Colonies</th> \n",
       "        <th class=\"col_heading level0 col4\" >shade</th> \n",
       "    </tr></thead> \n",
       "<tbody>    <tr> \n",
       "        <td id=\"T_f5ef07ae_1c6a_11e9_b87d_704d7b4149fdrow0_col0\" class=\"data row0 col0\" >1</td> \n",
       "        <td id=\"T_f5ef07ae_1c6a_11e9_b87d_704d7b4149fdrow0_col1\" class=\"data row0 col1\" >0.5</td> \n",
       "        <td id=\"T_f5ef07ae_1c6a_11e9_b87d_704d7b4149fdrow0_col2\" class=\"data row0 col2\" >0</td> \n",
       "        <td id=\"T_f5ef07ae_1c6a_11e9_b87d_704d7b4149fdrow0_col3\" class=\"data row0 col3\" >0</td> \n",
       "        <td id=\"T_f5ef07ae_1c6a_11e9_b87d_704d7b4149fdrow0_col4\" class=\"data row0 col4\" >False</td> \n",
       "    </tr>    <tr> \n",
       "        <td id=\"T_f5ef07ae_1c6a_11e9_b87d_704d7b4149fdrow1_col0\" class=\"data row1 col0\" >1</td> \n",
       "        <td id=\"T_f5ef07ae_1c6a_11e9_b87d_704d7b4149fdrow1_col1\" class=\"data row1 col1\" >5</td> \n",
       "        <td id=\"T_f5ef07ae_1c6a_11e9_b87d_704d7b4149fdrow1_col2\" class=\"data row1 col2\" >0</td> \n",
       "        <td id=\"T_f5ef07ae_1c6a_11e9_b87d_704d7b4149fdrow1_col3\" class=\"data row1 col3\" >0</td> \n",
       "        <td id=\"T_f5ef07ae_1c6a_11e9_b87d_704d7b4149fdrow1_col4\" class=\"data row1 col4\" >False</td> \n",
       "    </tr>    <tr> \n",
       "        <td id=\"T_f5ef07ae_1c6a_11e9_b87d_704d7b4149fdrow2_col0\" class=\"data row2 col0\" >1</td> \n",
       "        <td id=\"T_f5ef07ae_1c6a_11e9_b87d_704d7b4149fdrow2_col1\" class=\"data row2 col1\" >50</td> \n",
       "        <td id=\"T_f5ef07ae_1c6a_11e9_b87d_704d7b4149fdrow2_col2\" class=\"data row2 col2\" >0</td> \n",
       "        <td id=\"T_f5ef07ae_1c6a_11e9_b87d_704d7b4149fdrow2_col3\" class=\"data row2 col3\" >0</td> \n",
       "        <td id=\"T_f5ef07ae_1c6a_11e9_b87d_704d7b4149fdrow2_col4\" class=\"data row2 col4\" >False</td> \n",
       "    </tr>    <tr> \n",
       "        <td id=\"T_f5ef07ae_1c6a_11e9_b87d_704d7b4149fdrow3_col0\" class=\"data row3 col0\" >0.1</td> \n",
       "        <td id=\"T_f5ef07ae_1c6a_11e9_b87d_704d7b4149fdrow3_col1\" class=\"data row3 col1\" >0.5</td> \n",
       "        <td id=\"T_f5ef07ae_1c6a_11e9_b87d_704d7b4149fdrow3_col2\" class=\"data row3 col2\" >0</td> \n",
       "        <td id=\"T_f5ef07ae_1c6a_11e9_b87d_704d7b4149fdrow3_col3\" class=\"data row3 col3\" >0</td> \n",
       "        <td id=\"T_f5ef07ae_1c6a_11e9_b87d_704d7b4149fdrow3_col4\" class=\"data row3 col4\" >False</td> \n",
       "    </tr>    <tr> \n",
       "        <td id=\"T_f5ef07ae_1c6a_11e9_b87d_704d7b4149fdrow4_col0\" class=\"data row4 col0\" >0.01</td> \n",
       "        <td id=\"T_f5ef07ae_1c6a_11e9_b87d_704d7b4149fdrow4_col1\" class=\"data row4 col1\" >5</td> \n",
       "        <td id=\"T_f5ef07ae_1c6a_11e9_b87d_704d7b4149fdrow4_col2\" class=\"data row4 col2\" >0</td> \n",
       "        <td id=\"T_f5ef07ae_1c6a_11e9_b87d_704d7b4149fdrow4_col3\" class=\"data row4 col3\" >0</td> \n",
       "        <td id=\"T_f5ef07ae_1c6a_11e9_b87d_704d7b4149fdrow4_col4\" class=\"data row4 col4\" >False</td> \n",
       "    </tr>    <tr> \n",
       "        <td id=\"T_f5ef07ae_1c6a_11e9_b87d_704d7b4149fdrow5_col0\" class=\"data row5 col0\" >0.001</td> \n",
       "        <td id=\"T_f5ef07ae_1c6a_11e9_b87d_704d7b4149fdrow5_col1\" class=\"data row5 col1\" >50</td> \n",
       "        <td id=\"T_f5ef07ae_1c6a_11e9_b87d_704d7b4149fdrow5_col2\" class=\"data row5 col2\" >0</td> \n",
       "        <td id=\"T_f5ef07ae_1c6a_11e9_b87d_704d7b4149fdrow5_col3\" class=\"data row5 col3\" >0</td> \n",
       "        <td id=\"T_f5ef07ae_1c6a_11e9_b87d_704d7b4149fdrow5_col4\" class=\"data row5 col4\" >True</td> \n",
       "    </tr></tbody> \n",
       "</table> "
      ],
      "text/plain": [
       "<pandas.io.formats.style.Styler at 0x1e424603080>"
      ]
     },
     "execution_count": 11,
     "metadata": {},
     "output_type": "execute_result"
    }
   ],
   "source": [
    "results_mEndo.style.apply(highlight_row, axis=1).hide_index()"
   ]
  },
  {
   "cell_type": "code",
   "execution_count": 12,
   "metadata": {},
   "outputs": [
    {
     "data": {
      "text/html": [
       "<div>\n",
       "<style scoped>\n",
       "    .dataframe tbody tr th:only-of-type {\n",
       "        vertical-align: middle;\n",
       "    }\n",
       "\n",
       "    .dataframe tbody tr th {\n",
       "        vertical-align: top;\n",
       "    }\n",
       "\n",
       "    .dataframe thead th {\n",
       "        text-align: right;\n",
       "    }\n",
       "</style>\n",
       "<table border=\"1\" class=\"dataframe\">\n",
       "  <thead>\n",
       "    <tr style=\"text-align: right;\">\n",
       "      <th></th>\n",
       "      <th>Dilution Factor</th>\n",
       "      <th>Volume mL</th>\n",
       "      <th>Typical Colonies</th>\n",
       "      <th>Atypical Colonies</th>\n",
       "      <th>Total Colonies</th>\n",
       "      <th>CFU/mL</th>\n",
       "    </tr>\n",
       "  </thead>\n",
       "  <tbody>\n",
       "    <tr>\n",
       "      <th>5</th>\n",
       "      <td>0.001</td>\n",
       "      <td>50.0</td>\n",
       "      <td>0</td>\n",
       "      <td>0</td>\n",
       "      <td>0</td>\n",
       "      <td>&lt;0.0</td>\n",
       "    </tr>\n",
       "  </tbody>\n",
       "</table>\n",
       "</div>"
      ],
      "text/plain": [
       "   Dilution Factor  Volume mL Typical Colonies Atypical Colonies  \\\n",
       "5            0.001       50.0                0                 0   \n",
       "\n",
       "   Total Colonies CFU/mL  \n",
       "5               0   <0.0  "
      ]
     },
     "execution_count": 12,
     "metadata": {},
     "output_type": "execute_result"
    }
   ],
   "source": [
    "results.loc[(results.Coliforms=='mEndo') & results.shade, ['Dilution Factor', 'Volume mL', 'Typical Colonies', 'Atypical Colonies','Total Colonies','CFU/mL']]"
   ]
  },
  {
   "cell_type": "code",
   "execution_count": 13,
   "metadata": {},
   "outputs": [
    {
     "data": {
      "text/html": [
       "<style  type=\"text/css\" >\n",
       "    #T_f653ac00_1c6a_11e9_9181_704d7b4149fdrow0_col0 {\n",
       "            background-color:  white;\n",
       "        }    #T_f653ac00_1c6a_11e9_9181_704d7b4149fdrow0_col1 {\n",
       "            background-color:  white;\n",
       "        }    #T_f653ac00_1c6a_11e9_9181_704d7b4149fdrow0_col2 {\n",
       "            background-color:  white;\n",
       "        }    #T_f653ac00_1c6a_11e9_9181_704d7b4149fdrow0_col3 {\n",
       "            background-color:  white;\n",
       "        }    #T_f653ac00_1c6a_11e9_9181_704d7b4149fdrow0_col4 {\n",
       "            background-color:  white;\n",
       "        }    #T_f653ac00_1c6a_11e9_9181_704d7b4149fdrow1_col0 {\n",
       "            background-color:  white;\n",
       "        }    #T_f653ac00_1c6a_11e9_9181_704d7b4149fdrow1_col1 {\n",
       "            background-color:  white;\n",
       "        }    #T_f653ac00_1c6a_11e9_9181_704d7b4149fdrow1_col2 {\n",
       "            background-color:  white;\n",
       "        }    #T_f653ac00_1c6a_11e9_9181_704d7b4149fdrow1_col3 {\n",
       "            background-color:  white;\n",
       "        }    #T_f653ac00_1c6a_11e9_9181_704d7b4149fdrow1_col4 {\n",
       "            background-color:  white;\n",
       "        }    #T_f653ac00_1c6a_11e9_9181_704d7b4149fdrow2_col0 {\n",
       "            background-color:  white;\n",
       "        }    #T_f653ac00_1c6a_11e9_9181_704d7b4149fdrow2_col1 {\n",
       "            background-color:  white;\n",
       "        }    #T_f653ac00_1c6a_11e9_9181_704d7b4149fdrow2_col2 {\n",
       "            background-color:  white;\n",
       "        }    #T_f653ac00_1c6a_11e9_9181_704d7b4149fdrow2_col3 {\n",
       "            background-color:  white;\n",
       "        }    #T_f653ac00_1c6a_11e9_9181_704d7b4149fdrow2_col4 {\n",
       "            background-color:  white;\n",
       "        }    #T_f653ac00_1c6a_11e9_9181_704d7b4149fdrow3_col0 {\n",
       "            background-color:  white;\n",
       "        }    #T_f653ac00_1c6a_11e9_9181_704d7b4149fdrow3_col1 {\n",
       "            background-color:  white;\n",
       "        }    #T_f653ac00_1c6a_11e9_9181_704d7b4149fdrow3_col2 {\n",
       "            background-color:  white;\n",
       "        }    #T_f653ac00_1c6a_11e9_9181_704d7b4149fdrow3_col3 {\n",
       "            background-color:  white;\n",
       "        }    #T_f653ac00_1c6a_11e9_9181_704d7b4149fdrow3_col4 {\n",
       "            background-color:  white;\n",
       "        }    #T_f653ac00_1c6a_11e9_9181_704d7b4149fdrow4_col0 {\n",
       "            background-color:  white;\n",
       "        }    #T_f653ac00_1c6a_11e9_9181_704d7b4149fdrow4_col1 {\n",
       "            background-color:  white;\n",
       "        }    #T_f653ac00_1c6a_11e9_9181_704d7b4149fdrow4_col2 {\n",
       "            background-color:  white;\n",
       "        }    #T_f653ac00_1c6a_11e9_9181_704d7b4149fdrow4_col3 {\n",
       "            background-color:  white;\n",
       "        }    #T_f653ac00_1c6a_11e9_9181_704d7b4149fdrow4_col4 {\n",
       "            background-color:  white;\n",
       "        }    #T_f653ac00_1c6a_11e9_9181_704d7b4149fdrow5_col0 {\n",
       "            background-color:  yellow;\n",
       "        }    #T_f653ac00_1c6a_11e9_9181_704d7b4149fdrow5_col1 {\n",
       "            background-color:  yellow;\n",
       "        }    #T_f653ac00_1c6a_11e9_9181_704d7b4149fdrow5_col2 {\n",
       "            background-color:  yellow;\n",
       "        }    #T_f653ac00_1c6a_11e9_9181_704d7b4149fdrow5_col3 {\n",
       "            background-color:  yellow;\n",
       "        }    #T_f653ac00_1c6a_11e9_9181_704d7b4149fdrow5_col4 {\n",
       "            background-color:  yellow;\n",
       "        }</style>  \n",
       "<table id=\"T_f653ac00_1c6a_11e9_9181_704d7b4149fd\" > \n",
       "<thead>    <tr> \n",
       "        <th class=\"col_heading level0 col0\" >Dilution Factor</th> \n",
       "        <th class=\"col_heading level0 col1\" >Volume mL</th> \n",
       "        <th class=\"col_heading level0 col2\" >Typical Colonies</th> \n",
       "        <th class=\"col_heading level0 col3\" >Atypical Colonies</th> \n",
       "        <th class=\"col_heading level0 col4\" >shade</th> \n",
       "    </tr></thead> \n",
       "<tbody>    <tr> \n",
       "        <td id=\"T_f653ac00_1c6a_11e9_9181_704d7b4149fdrow0_col0\" class=\"data row0 col0\" >1</td> \n",
       "        <td id=\"T_f653ac00_1c6a_11e9_9181_704d7b4149fdrow0_col1\" class=\"data row0 col1\" >0.5</td> \n",
       "        <td id=\"T_f653ac00_1c6a_11e9_9181_704d7b4149fdrow0_col2\" class=\"data row0 col2\" >0</td> \n",
       "        <td id=\"T_f653ac00_1c6a_11e9_9181_704d7b4149fdrow0_col3\" class=\"data row0 col3\" >0</td> \n",
       "        <td id=\"T_f653ac00_1c6a_11e9_9181_704d7b4149fdrow0_col4\" class=\"data row0 col4\" >False</td> \n",
       "    </tr>    <tr> \n",
       "        <td id=\"T_f653ac00_1c6a_11e9_9181_704d7b4149fdrow1_col0\" class=\"data row1 col0\" >1</td> \n",
       "        <td id=\"T_f653ac00_1c6a_11e9_9181_704d7b4149fdrow1_col1\" class=\"data row1 col1\" >5</td> \n",
       "        <td id=\"T_f653ac00_1c6a_11e9_9181_704d7b4149fdrow1_col2\" class=\"data row1 col2\" >0</td> \n",
       "        <td id=\"T_f653ac00_1c6a_11e9_9181_704d7b4149fdrow1_col3\" class=\"data row1 col3\" >0</td> \n",
       "        <td id=\"T_f653ac00_1c6a_11e9_9181_704d7b4149fdrow1_col4\" class=\"data row1 col4\" >False</td> \n",
       "    </tr>    <tr> \n",
       "        <td id=\"T_f653ac00_1c6a_11e9_9181_704d7b4149fdrow2_col0\" class=\"data row2 col0\" >1</td> \n",
       "        <td id=\"T_f653ac00_1c6a_11e9_9181_704d7b4149fdrow2_col1\" class=\"data row2 col1\" >50</td> \n",
       "        <td id=\"T_f653ac00_1c6a_11e9_9181_704d7b4149fdrow2_col2\" class=\"data row2 col2\" >0</td> \n",
       "        <td id=\"T_f653ac00_1c6a_11e9_9181_704d7b4149fdrow2_col3\" class=\"data row2 col3\" >0</td> \n",
       "        <td id=\"T_f653ac00_1c6a_11e9_9181_704d7b4149fdrow2_col4\" class=\"data row2 col4\" >False</td> \n",
       "    </tr>    <tr> \n",
       "        <td id=\"T_f653ac00_1c6a_11e9_9181_704d7b4149fdrow3_col0\" class=\"data row3 col0\" >0.1</td> \n",
       "        <td id=\"T_f653ac00_1c6a_11e9_9181_704d7b4149fdrow3_col1\" class=\"data row3 col1\" >0.5</td> \n",
       "        <td id=\"T_f653ac00_1c6a_11e9_9181_704d7b4149fdrow3_col2\" class=\"data row3 col2\" >0</td> \n",
       "        <td id=\"T_f653ac00_1c6a_11e9_9181_704d7b4149fdrow3_col3\" class=\"data row3 col3\" >0</td> \n",
       "        <td id=\"T_f653ac00_1c6a_11e9_9181_704d7b4149fdrow3_col4\" class=\"data row3 col4\" >False</td> \n",
       "    </tr>    <tr> \n",
       "        <td id=\"T_f653ac00_1c6a_11e9_9181_704d7b4149fdrow4_col0\" class=\"data row4 col0\" >0.01</td> \n",
       "        <td id=\"T_f653ac00_1c6a_11e9_9181_704d7b4149fdrow4_col1\" class=\"data row4 col1\" >5</td> \n",
       "        <td id=\"T_f653ac00_1c6a_11e9_9181_704d7b4149fdrow4_col2\" class=\"data row4 col2\" >0</td> \n",
       "        <td id=\"T_f653ac00_1c6a_11e9_9181_704d7b4149fdrow4_col3\" class=\"data row4 col3\" >0</td> \n",
       "        <td id=\"T_f653ac00_1c6a_11e9_9181_704d7b4149fdrow4_col4\" class=\"data row4 col4\" >False</td> \n",
       "    </tr>    <tr> \n",
       "        <td id=\"T_f653ac00_1c6a_11e9_9181_704d7b4149fdrow5_col0\" class=\"data row5 col0\" >0.001</td> \n",
       "        <td id=\"T_f653ac00_1c6a_11e9_9181_704d7b4149fdrow5_col1\" class=\"data row5 col1\" >50</td> \n",
       "        <td id=\"T_f653ac00_1c6a_11e9_9181_704d7b4149fdrow5_col2\" class=\"data row5 col2\" >0</td> \n",
       "        <td id=\"T_f653ac00_1c6a_11e9_9181_704d7b4149fdrow5_col3\" class=\"data row5 col3\" >0</td> \n",
       "        <td id=\"T_f653ac00_1c6a_11e9_9181_704d7b4149fdrow5_col4\" class=\"data row5 col4\" >True</td> \n",
       "    </tr></tbody> \n",
       "</table> "
      ],
      "text/plain": [
       "<pandas.io.formats.style.Styler at 0x1e4253360f0>"
      ]
     },
     "execution_count": 13,
     "metadata": {},
     "output_type": "execute_result"
    }
   ],
   "source": [
    "results_mFC.style.apply(highlight_row, axis=1).hide_index()"
   ]
  },
  {
   "cell_type": "code",
   "execution_count": 14,
   "metadata": {},
   "outputs": [
    {
     "data": {
      "text/html": [
       "<div>\n",
       "<style scoped>\n",
       "    .dataframe tbody tr th:only-of-type {\n",
       "        vertical-align: middle;\n",
       "    }\n",
       "\n",
       "    .dataframe tbody tr th {\n",
       "        vertical-align: top;\n",
       "    }\n",
       "\n",
       "    .dataframe thead th {\n",
       "        text-align: right;\n",
       "    }\n",
       "</style>\n",
       "<table border=\"1\" class=\"dataframe\">\n",
       "  <thead>\n",
       "    <tr style=\"text-align: right;\">\n",
       "      <th></th>\n",
       "      <th>Dilution Factor</th>\n",
       "      <th>Volume mL</th>\n",
       "      <th>Typical Colonies</th>\n",
       "      <th>Atypical Colonies</th>\n",
       "      <th>Total Colonies</th>\n",
       "      <th>CFU/mL</th>\n",
       "    </tr>\n",
       "  </thead>\n",
       "  <tbody>\n",
       "    <tr>\n",
       "      <th>11</th>\n",
       "      <td>0.001</td>\n",
       "      <td>50.0</td>\n",
       "      <td>0</td>\n",
       "      <td>0</td>\n",
       "      <td>0</td>\n",
       "      <td>&lt;0.0</td>\n",
       "    </tr>\n",
       "  </tbody>\n",
       "</table>\n",
       "</div>"
      ],
      "text/plain": [
       "    Dilution Factor  Volume mL Typical Colonies Atypical Colonies  \\\n",
       "11            0.001       50.0                0                 0   \n",
       "\n",
       "    Total Colonies CFU/mL  \n",
       "11               0   <0.0  "
      ]
     },
     "execution_count": 14,
     "metadata": {},
     "output_type": "execute_result"
    }
   ],
   "source": [
    "results.loc[(results.Coliforms=='mFC') & results.shade, ['Dilution Factor', 'Volume mL', 'Typical Colonies', 'Atypical Colonies','Total Colonies','CFU/mL']]"
   ]
  },
  {
   "cell_type": "code",
   "execution_count": null,
   "metadata": {},
   "outputs": [],
   "source": []
  }
 ],
 "metadata": {
  "kernelspec": {
   "display_name": "Python 3",
   "language": "python",
   "name": "python3"
  },
  "language_info": {
   "codemirror_mode": {
    "name": "ipython",
    "version": 3
   },
   "file_extension": ".py",
   "mimetype": "text/x-python",
   "name": "python",
   "nbconvert_exporter": "python",
   "pygments_lexer": "ipython3",
   "version": "3.6.7"
  }
 },
 "nbformat": 4,
 "nbformat_minor": 2
}
