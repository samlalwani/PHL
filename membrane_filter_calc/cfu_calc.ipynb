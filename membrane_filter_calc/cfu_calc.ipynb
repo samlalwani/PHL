{
 "cells": [
  {
   "cell_type": "code",
   "execution_count": 1,
   "metadata": {},
   "outputs": [],
   "source": [
    "import ipywidgets as widgets\n",
    "#from ipywidgets import  Layout\n",
    "from IPython.display import display\n",
    "\n",
    "from filter_calc import cfu_calc, create_input_widget, highlight_row, display_results"
   ]
  },
  {
   "cell_type": "code",
   "execution_count": 2,
   "metadata": {},
   "outputs": [],
   "source": [
    "def on_button_clicked(b):\n",
    "    display_results(input_widget)"
   ]
  },
  {
   "cell_type": "code",
   "execution_count": 3,
   "metadata": {},
   "outputs": [
    {
     "data": {
      "application/vnd.jupyter.widget-view+json": {
       "model_id": "68121868a9724851a4e6dc7afc29e74c",
       "version_major": 2,
       "version_minor": 0
      },
      "text/plain": [
       "HBox(children=(VBox(children=(Label(value='Dilution Factor', layout=Layout(width='15')), Label(value='1'), Lab…"
      ]
     },
     "metadata": {},
     "output_type": "display_data"
    }
   ],
   "source": [
    "input_widget = create_input_widget()\n",
    "input_widget"
   ]
  },
  {
   "cell_type": "code",
   "execution_count": 4,
   "metadata": {},
   "outputs": [],
   "source": [
    "button = widgets.Button( description='CFU/mL',disabled=False,button_style='success', tooltip='Click me',icon='fa-flask')\n",
    "button.on_click(on_button_clicked)\n"
   ]
  },
  {
   "cell_type": "code",
   "execution_count": 5,
   "metadata": {},
   "outputs": [
    {
     "data": {
      "application/vnd.jupyter.widget-view+json": {
       "model_id": "f0c064dcac824634b31f0f300f374f26",
       "version_major": 2,
       "version_minor": 0
      },
      "text/plain": [
       "Button(button_style='success', description='CFU/mL', icon='flask', style=ButtonStyle(), tooltip='Click me')"
      ]
     },
     "metadata": {},
     "output_type": "display_data"
    },
    {
     "name": "stdout",
     "output_type": "stream",
     "text": [
      "mEndo Inputs\n"
     ]
    },
    {
     "data": {
      "text/html": [
       "<style  type=\"text/css\" >\n",
       "    #T_711b1afa_1c7e_11e9_943d_704d7b4149fdrow0_col0 {\n",
       "            background-color:  white;\n",
       "        }    #T_711b1afa_1c7e_11e9_943d_704d7b4149fdrow0_col1 {\n",
       "            background-color:  white;\n",
       "        }    #T_711b1afa_1c7e_11e9_943d_704d7b4149fdrow0_col2 {\n",
       "            background-color:  white;\n",
       "        }    #T_711b1afa_1c7e_11e9_943d_704d7b4149fdrow0_col3 {\n",
       "            background-color:  white;\n",
       "        }    #T_711b1afa_1c7e_11e9_943d_704d7b4149fdrow0_col4 {\n",
       "            background-color:  white;\n",
       "        }    #T_711b1afa_1c7e_11e9_943d_704d7b4149fdrow1_col0 {\n",
       "            background-color:  white;\n",
       "        }    #T_711b1afa_1c7e_11e9_943d_704d7b4149fdrow1_col1 {\n",
       "            background-color:  white;\n",
       "        }    #T_711b1afa_1c7e_11e9_943d_704d7b4149fdrow1_col2 {\n",
       "            background-color:  white;\n",
       "        }    #T_711b1afa_1c7e_11e9_943d_704d7b4149fdrow1_col3 {\n",
       "            background-color:  white;\n",
       "        }    #T_711b1afa_1c7e_11e9_943d_704d7b4149fdrow1_col4 {\n",
       "            background-color:  white;\n",
       "        }    #T_711b1afa_1c7e_11e9_943d_704d7b4149fdrow2_col0 {\n",
       "            background-color:  white;\n",
       "        }    #T_711b1afa_1c7e_11e9_943d_704d7b4149fdrow2_col1 {\n",
       "            background-color:  white;\n",
       "        }    #T_711b1afa_1c7e_11e9_943d_704d7b4149fdrow2_col2 {\n",
       "            background-color:  white;\n",
       "        }    #T_711b1afa_1c7e_11e9_943d_704d7b4149fdrow2_col3 {\n",
       "            background-color:  white;\n",
       "        }    #T_711b1afa_1c7e_11e9_943d_704d7b4149fdrow2_col4 {\n",
       "            background-color:  white;\n",
       "        }    #T_711b1afa_1c7e_11e9_943d_704d7b4149fdrow3_col0 {\n",
       "            background-color:  white;\n",
       "        }    #T_711b1afa_1c7e_11e9_943d_704d7b4149fdrow3_col1 {\n",
       "            background-color:  white;\n",
       "        }    #T_711b1afa_1c7e_11e9_943d_704d7b4149fdrow3_col2 {\n",
       "            background-color:  white;\n",
       "        }    #T_711b1afa_1c7e_11e9_943d_704d7b4149fdrow3_col3 {\n",
       "            background-color:  white;\n",
       "        }    #T_711b1afa_1c7e_11e9_943d_704d7b4149fdrow3_col4 {\n",
       "            background-color:  white;\n",
       "        }    #T_711b1afa_1c7e_11e9_943d_704d7b4149fdrow4_col0 {\n",
       "            background-color:  white;\n",
       "        }    #T_711b1afa_1c7e_11e9_943d_704d7b4149fdrow4_col1 {\n",
       "            background-color:  white;\n",
       "        }    #T_711b1afa_1c7e_11e9_943d_704d7b4149fdrow4_col2 {\n",
       "            background-color:  white;\n",
       "        }    #T_711b1afa_1c7e_11e9_943d_704d7b4149fdrow4_col3 {\n",
       "            background-color:  white;\n",
       "        }    #T_711b1afa_1c7e_11e9_943d_704d7b4149fdrow4_col4 {\n",
       "            background-color:  white;\n",
       "        }    #T_711b1afa_1c7e_11e9_943d_704d7b4149fdrow5_col0 {\n",
       "            background-color:  yellow;\n",
       "        }    #T_711b1afa_1c7e_11e9_943d_704d7b4149fdrow5_col1 {\n",
       "            background-color:  yellow;\n",
       "        }    #T_711b1afa_1c7e_11e9_943d_704d7b4149fdrow5_col2 {\n",
       "            background-color:  yellow;\n",
       "        }    #T_711b1afa_1c7e_11e9_943d_704d7b4149fdrow5_col3 {\n",
       "            background-color:  yellow;\n",
       "        }    #T_711b1afa_1c7e_11e9_943d_704d7b4149fdrow5_col4 {\n",
       "            background-color:  yellow;\n",
       "        }</style>  \n",
       "<table id=\"T_711b1afa_1c7e_11e9_943d_704d7b4149fd\" > \n",
       "<thead>    <tr> \n",
       "        <th class=\"col_heading level0 col0\" >Dilution Factor</th> \n",
       "        <th class=\"col_heading level0 col1\" >Volume mL</th> \n",
       "        <th class=\"col_heading level0 col2\" >Typical Colonies</th> \n",
       "        <th class=\"col_heading level0 col3\" >Atypical Colonies</th> \n",
       "        <th class=\"col_heading level0 col4\" >shade</th> \n",
       "    </tr></thead> \n",
       "<tbody>    <tr> \n",
       "        <td id=\"T_711b1afa_1c7e_11e9_943d_704d7b4149fdrow0_col0\" class=\"data row0 col0\" >1</td> \n",
       "        <td id=\"T_711b1afa_1c7e_11e9_943d_704d7b4149fdrow0_col1\" class=\"data row0 col1\" >0.5</td> \n",
       "        <td id=\"T_711b1afa_1c7e_11e9_943d_704d7b4149fdrow0_col2\" class=\"data row0 col2\" >0</td> \n",
       "        <td id=\"T_711b1afa_1c7e_11e9_943d_704d7b4149fdrow0_col3\" class=\"data row0 col3\" >1</td> \n",
       "        <td id=\"T_711b1afa_1c7e_11e9_943d_704d7b4149fdrow0_col4\" class=\"data row0 col4\" >False</td> \n",
       "    </tr>    <tr> \n",
       "        <td id=\"T_711b1afa_1c7e_11e9_943d_704d7b4149fdrow1_col0\" class=\"data row1 col0\" >1</td> \n",
       "        <td id=\"T_711b1afa_1c7e_11e9_943d_704d7b4149fdrow1_col1\" class=\"data row1 col1\" >5</td> \n",
       "        <td id=\"T_711b1afa_1c7e_11e9_943d_704d7b4149fdrow1_col2\" class=\"data row1 col2\" >0</td> \n",
       "        <td id=\"T_711b1afa_1c7e_11e9_943d_704d7b4149fdrow1_col3\" class=\"data row1 col3\" >07</td> \n",
       "        <td id=\"T_711b1afa_1c7e_11e9_943d_704d7b4149fdrow1_col4\" class=\"data row1 col4\" >False</td> \n",
       "    </tr>    <tr> \n",
       "        <td id=\"T_711b1afa_1c7e_11e9_943d_704d7b4149fdrow2_col0\" class=\"data row2 col0\" >1</td> \n",
       "        <td id=\"T_711b1afa_1c7e_11e9_943d_704d7b4149fdrow2_col1\" class=\"data row2 col1\" >50</td> \n",
       "        <td id=\"T_711b1afa_1c7e_11e9_943d_704d7b4149fdrow2_col2\" class=\"data row2 col2\" >4</td> \n",
       "        <td id=\"T_711b1afa_1c7e_11e9_943d_704d7b4149fdrow2_col3\" class=\"data row2 col3\" >017</td> \n",
       "        <td id=\"T_711b1afa_1c7e_11e9_943d_704d7b4149fdrow2_col4\" class=\"data row2 col4\" >False</td> \n",
       "    </tr>    <tr> \n",
       "        <td id=\"T_711b1afa_1c7e_11e9_943d_704d7b4149fdrow3_col0\" class=\"data row3 col0\" >0.1</td> \n",
       "        <td id=\"T_711b1afa_1c7e_11e9_943d_704d7b4149fdrow3_col1\" class=\"data row3 col1\" >0.5</td> \n",
       "        <td id=\"T_711b1afa_1c7e_11e9_943d_704d7b4149fdrow3_col2\" class=\"data row3 col2\" >21</td> \n",
       "        <td id=\"T_711b1afa_1c7e_11e9_943d_704d7b4149fdrow3_col3\" class=\"data row3 col3\" >0</td> \n",
       "        <td id=\"T_711b1afa_1c7e_11e9_943d_704d7b4149fdrow3_col4\" class=\"data row3 col4\" >False</td> \n",
       "    </tr>    <tr> \n",
       "        <td id=\"T_711b1afa_1c7e_11e9_943d_704d7b4149fdrow4_col0\" class=\"data row4 col0\" >0.01</td> \n",
       "        <td id=\"T_711b1afa_1c7e_11e9_943d_704d7b4149fdrow4_col1\" class=\"data row4 col1\" >5</td> \n",
       "        <td id=\"T_711b1afa_1c7e_11e9_943d_704d7b4149fdrow4_col2\" class=\"data row4 col2\" >0</td> \n",
       "        <td id=\"T_711b1afa_1c7e_11e9_943d_704d7b4149fdrow4_col3\" class=\"data row4 col3\" >0</td> \n",
       "        <td id=\"T_711b1afa_1c7e_11e9_943d_704d7b4149fdrow4_col4\" class=\"data row4 col4\" >False</td> \n",
       "    </tr>    <tr> \n",
       "        <td id=\"T_711b1afa_1c7e_11e9_943d_704d7b4149fdrow5_col0\" class=\"data row5 col0\" >0.001</td> \n",
       "        <td id=\"T_711b1afa_1c7e_11e9_943d_704d7b4149fdrow5_col1\" class=\"data row5 col1\" >50</td> \n",
       "        <td id=\"T_711b1afa_1c7e_11e9_943d_704d7b4149fdrow5_col2\" class=\"data row5 col2\" >0</td> \n",
       "        <td id=\"T_711b1afa_1c7e_11e9_943d_704d7b4149fdrow5_col3\" class=\"data row5 col3\" >0</td> \n",
       "        <td id=\"T_711b1afa_1c7e_11e9_943d_704d7b4149fdrow5_col4\" class=\"data row5 col4\" >True</td> \n",
       "    </tr></tbody> \n",
       "</table> "
      ],
      "text/plain": [
       "<pandas.io.formats.style.Styler at 0x13e61571fd0>"
      ]
     },
     "metadata": {},
     "output_type": "display_data"
    },
    {
     "data": {
      "text/html": [
       "<style  type=\"text/css\" >\n",
       "</style>  \n",
       "<table id=\"T_711b68e8_1c7e_11e9_90af_704d7b4149fd\" > \n",
       "<thead>    <tr> \n",
       "        <th class=\"col_heading level0 col0\" >Dilution Factor</th> \n",
       "        <th class=\"col_heading level0 col1\" >Volume mL</th> \n",
       "        <th class=\"col_heading level0 col2\" >Typical Colonies</th> \n",
       "        <th class=\"col_heading level0 col3\" >Atypical Colonies</th> \n",
       "        <th class=\"col_heading level0 col4\" >Total Colonies</th> \n",
       "        <th class=\"col_heading level0 col5\" >CFU/mL</th> \n",
       "    </tr></thead> \n",
       "<tbody>    <tr> \n",
       "        <td id=\"T_711b68e8_1c7e_11e9_90af_704d7b4149fdrow0_col0\" class=\"data row0 col0\" >0.001</td> \n",
       "        <td id=\"T_711b68e8_1c7e_11e9_90af_704d7b4149fdrow0_col1\" class=\"data row0 col1\" >50</td> \n",
       "        <td id=\"T_711b68e8_1c7e_11e9_90af_704d7b4149fdrow0_col2\" class=\"data row0 col2\" >0</td> \n",
       "        <td id=\"T_711b68e8_1c7e_11e9_90af_704d7b4149fdrow0_col3\" class=\"data row0 col3\" >0</td> \n",
       "        <td id=\"T_711b68e8_1c7e_11e9_90af_704d7b4149fdrow0_col4\" class=\"data row0 col4\" >0</td> \n",
       "        <td id=\"T_711b68e8_1c7e_11e9_90af_704d7b4149fdrow0_col5\" class=\"data row0 col5\" ><0.0</td> \n",
       "    </tr></tbody> \n",
       "</table> "
      ],
      "text/plain": [
       "<pandas.io.formats.style.Styler at 0x13e5db31b38>"
      ]
     },
     "metadata": {},
     "output_type": "display_data"
    },
    {
     "name": "stdout",
     "output_type": "stream",
     "text": [
      "mFC Inputs\n"
     ]
    },
    {
     "data": {
      "text/html": [
       "<style  type=\"text/css\" >\n",
       "    #T_711dd842_1c7e_11e9_9266_704d7b4149fdrow0_col0 {\n",
       "            background-color:  white;\n",
       "        }    #T_711dd842_1c7e_11e9_9266_704d7b4149fdrow0_col1 {\n",
       "            background-color:  white;\n",
       "        }    #T_711dd842_1c7e_11e9_9266_704d7b4149fdrow0_col2 {\n",
       "            background-color:  white;\n",
       "        }    #T_711dd842_1c7e_11e9_9266_704d7b4149fdrow0_col3 {\n",
       "            background-color:  white;\n",
       "        }    #T_711dd842_1c7e_11e9_9266_704d7b4149fdrow0_col4 {\n",
       "            background-color:  white;\n",
       "        }    #T_711dd842_1c7e_11e9_9266_704d7b4149fdrow1_col0 {\n",
       "            background-color:  white;\n",
       "        }    #T_711dd842_1c7e_11e9_9266_704d7b4149fdrow1_col1 {\n",
       "            background-color:  white;\n",
       "        }    #T_711dd842_1c7e_11e9_9266_704d7b4149fdrow1_col2 {\n",
       "            background-color:  white;\n",
       "        }    #T_711dd842_1c7e_11e9_9266_704d7b4149fdrow1_col3 {\n",
       "            background-color:  white;\n",
       "        }    #T_711dd842_1c7e_11e9_9266_704d7b4149fdrow1_col4 {\n",
       "            background-color:  white;\n",
       "        }    #T_711dd842_1c7e_11e9_9266_704d7b4149fdrow2_col0 {\n",
       "            background-color:  white;\n",
       "        }    #T_711dd842_1c7e_11e9_9266_704d7b4149fdrow2_col1 {\n",
       "            background-color:  white;\n",
       "        }    #T_711dd842_1c7e_11e9_9266_704d7b4149fdrow2_col2 {\n",
       "            background-color:  white;\n",
       "        }    #T_711dd842_1c7e_11e9_9266_704d7b4149fdrow2_col3 {\n",
       "            background-color:  white;\n",
       "        }    #T_711dd842_1c7e_11e9_9266_704d7b4149fdrow2_col4 {\n",
       "            background-color:  white;\n",
       "        }    #T_711dd842_1c7e_11e9_9266_704d7b4149fdrow3_col0 {\n",
       "            background-color:  white;\n",
       "        }    #T_711dd842_1c7e_11e9_9266_704d7b4149fdrow3_col1 {\n",
       "            background-color:  white;\n",
       "        }    #T_711dd842_1c7e_11e9_9266_704d7b4149fdrow3_col2 {\n",
       "            background-color:  white;\n",
       "        }    #T_711dd842_1c7e_11e9_9266_704d7b4149fdrow3_col3 {\n",
       "            background-color:  white;\n",
       "        }    #T_711dd842_1c7e_11e9_9266_704d7b4149fdrow3_col4 {\n",
       "            background-color:  white;\n",
       "        }    #T_711dd842_1c7e_11e9_9266_704d7b4149fdrow4_col0 {\n",
       "            background-color:  white;\n",
       "        }    #T_711dd842_1c7e_11e9_9266_704d7b4149fdrow4_col1 {\n",
       "            background-color:  white;\n",
       "        }    #T_711dd842_1c7e_11e9_9266_704d7b4149fdrow4_col2 {\n",
       "            background-color:  white;\n",
       "        }    #T_711dd842_1c7e_11e9_9266_704d7b4149fdrow4_col3 {\n",
       "            background-color:  white;\n",
       "        }    #T_711dd842_1c7e_11e9_9266_704d7b4149fdrow4_col4 {\n",
       "            background-color:  white;\n",
       "        }    #T_711dd842_1c7e_11e9_9266_704d7b4149fdrow5_col0 {\n",
       "            background-color:  yellow;\n",
       "        }    #T_711dd842_1c7e_11e9_9266_704d7b4149fdrow5_col1 {\n",
       "            background-color:  yellow;\n",
       "        }    #T_711dd842_1c7e_11e9_9266_704d7b4149fdrow5_col2 {\n",
       "            background-color:  yellow;\n",
       "        }    #T_711dd842_1c7e_11e9_9266_704d7b4149fdrow5_col3 {\n",
       "            background-color:  yellow;\n",
       "        }    #T_711dd842_1c7e_11e9_9266_704d7b4149fdrow5_col4 {\n",
       "            background-color:  yellow;\n",
       "        }</style>  \n",
       "<table id=\"T_711dd842_1c7e_11e9_9266_704d7b4149fd\" > \n",
       "<thead>    <tr> \n",
       "        <th class=\"col_heading level0 col0\" >Dilution Factor</th> \n",
       "        <th class=\"col_heading level0 col1\" >Volume mL</th> \n",
       "        <th class=\"col_heading level0 col2\" >Typical Colonies</th> \n",
       "        <th class=\"col_heading level0 col3\" >Atypical Colonies</th> \n",
       "        <th class=\"col_heading level0 col4\" >shade</th> \n",
       "    </tr></thead> \n",
       "<tbody>    <tr> \n",
       "        <td id=\"T_711dd842_1c7e_11e9_9266_704d7b4149fdrow0_col0\" class=\"data row0 col0\" >1</td> \n",
       "        <td id=\"T_711dd842_1c7e_11e9_9266_704d7b4149fdrow0_col1\" class=\"data row0 col1\" >0.5</td> \n",
       "        <td id=\"T_711dd842_1c7e_11e9_9266_704d7b4149fdrow0_col2\" class=\"data row0 col2\" >0</td> \n",
       "        <td id=\"T_711dd842_1c7e_11e9_9266_704d7b4149fdrow0_col3\" class=\"data row0 col3\" >0</td> \n",
       "        <td id=\"T_711dd842_1c7e_11e9_9266_704d7b4149fdrow0_col4\" class=\"data row0 col4\" >False</td> \n",
       "    </tr>    <tr> \n",
       "        <td id=\"T_711dd842_1c7e_11e9_9266_704d7b4149fdrow1_col0\" class=\"data row1 col0\" >1</td> \n",
       "        <td id=\"T_711dd842_1c7e_11e9_9266_704d7b4149fdrow1_col1\" class=\"data row1 col1\" >5</td> \n",
       "        <td id=\"T_711dd842_1c7e_11e9_9266_704d7b4149fdrow1_col2\" class=\"data row1 col2\" >0</td> \n",
       "        <td id=\"T_711dd842_1c7e_11e9_9266_704d7b4149fdrow1_col3\" class=\"data row1 col3\" >0</td> \n",
       "        <td id=\"T_711dd842_1c7e_11e9_9266_704d7b4149fdrow1_col4\" class=\"data row1 col4\" >False</td> \n",
       "    </tr>    <tr> \n",
       "        <td id=\"T_711dd842_1c7e_11e9_9266_704d7b4149fdrow2_col0\" class=\"data row2 col0\" >1</td> \n",
       "        <td id=\"T_711dd842_1c7e_11e9_9266_704d7b4149fdrow2_col1\" class=\"data row2 col1\" >50</td> \n",
       "        <td id=\"T_711dd842_1c7e_11e9_9266_704d7b4149fdrow2_col2\" class=\"data row2 col2\" >1</td> \n",
       "        <td id=\"T_711dd842_1c7e_11e9_9266_704d7b4149fdrow2_col3\" class=\"data row2 col3\" >0</td> \n",
       "        <td id=\"T_711dd842_1c7e_11e9_9266_704d7b4149fdrow2_col4\" class=\"data row2 col4\" >False</td> \n",
       "    </tr>    <tr> \n",
       "        <td id=\"T_711dd842_1c7e_11e9_9266_704d7b4149fdrow3_col0\" class=\"data row3 col0\" >0.1</td> \n",
       "        <td id=\"T_711dd842_1c7e_11e9_9266_704d7b4149fdrow3_col1\" class=\"data row3 col1\" >0.5</td> \n",
       "        <td id=\"T_711dd842_1c7e_11e9_9266_704d7b4149fdrow3_col2\" class=\"data row3 col2\" >0</td> \n",
       "        <td id=\"T_711dd842_1c7e_11e9_9266_704d7b4149fdrow3_col3\" class=\"data row3 col3\" >0</td> \n",
       "        <td id=\"T_711dd842_1c7e_11e9_9266_704d7b4149fdrow3_col4\" class=\"data row3 col4\" >False</td> \n",
       "    </tr>    <tr> \n",
       "        <td id=\"T_711dd842_1c7e_11e9_9266_704d7b4149fdrow4_col0\" class=\"data row4 col0\" >0.01</td> \n",
       "        <td id=\"T_711dd842_1c7e_11e9_9266_704d7b4149fdrow4_col1\" class=\"data row4 col1\" >5</td> \n",
       "        <td id=\"T_711dd842_1c7e_11e9_9266_704d7b4149fdrow4_col2\" class=\"data row4 col2\" >0</td> \n",
       "        <td id=\"T_711dd842_1c7e_11e9_9266_704d7b4149fdrow4_col3\" class=\"data row4 col3\" >0</td> \n",
       "        <td id=\"T_711dd842_1c7e_11e9_9266_704d7b4149fdrow4_col4\" class=\"data row4 col4\" >False</td> \n",
       "    </tr>    <tr> \n",
       "        <td id=\"T_711dd842_1c7e_11e9_9266_704d7b4149fdrow5_col0\" class=\"data row5 col0\" >0.001</td> \n",
       "        <td id=\"T_711dd842_1c7e_11e9_9266_704d7b4149fdrow5_col1\" class=\"data row5 col1\" >50</td> \n",
       "        <td id=\"T_711dd842_1c7e_11e9_9266_704d7b4149fdrow5_col2\" class=\"data row5 col2\" >0</td> \n",
       "        <td id=\"T_711dd842_1c7e_11e9_9266_704d7b4149fdrow5_col3\" class=\"data row5 col3\" >0</td> \n",
       "        <td id=\"T_711dd842_1c7e_11e9_9266_704d7b4149fdrow5_col4\" class=\"data row5 col4\" >True</td> \n",
       "    </tr></tbody> \n",
       "</table> "
      ],
      "text/plain": [
       "<pandas.io.formats.style.Styler at 0x13e62216438>"
      ]
     },
     "metadata": {},
     "output_type": "display_data"
    },
    {
     "data": {
      "text/html": [
       "<style  type=\"text/css\" >\n",
       "</style>  \n",
       "<table id=\"T_711e4d1c_1c7e_11e9_bc92_704d7b4149fd\" > \n",
       "<thead>    <tr> \n",
       "        <th class=\"col_heading level0 col0\" >Dilution Factor</th> \n",
       "        <th class=\"col_heading level0 col1\" >Volume mL</th> \n",
       "        <th class=\"col_heading level0 col2\" >Typical Colonies</th> \n",
       "        <th class=\"col_heading level0 col3\" >Atypical Colonies</th> \n",
       "        <th class=\"col_heading level0 col4\" >Total Colonies</th> \n",
       "        <th class=\"col_heading level0 col5\" >CFU/mL</th> \n",
       "    </tr></thead> \n",
       "<tbody>    <tr> \n",
       "        <td id=\"T_711e4d1c_1c7e_11e9_bc92_704d7b4149fdrow0_col0\" class=\"data row0 col0\" >0.001</td> \n",
       "        <td id=\"T_711e4d1c_1c7e_11e9_bc92_704d7b4149fdrow0_col1\" class=\"data row0 col1\" >50</td> \n",
       "        <td id=\"T_711e4d1c_1c7e_11e9_bc92_704d7b4149fdrow0_col2\" class=\"data row0 col2\" >0</td> \n",
       "        <td id=\"T_711e4d1c_1c7e_11e9_bc92_704d7b4149fdrow0_col3\" class=\"data row0 col3\" >0</td> \n",
       "        <td id=\"T_711e4d1c_1c7e_11e9_bc92_704d7b4149fdrow0_col4\" class=\"data row0 col4\" >0</td> \n",
       "        <td id=\"T_711e4d1c_1c7e_11e9_bc92_704d7b4149fdrow0_col5\" class=\"data row0 col5\" ><0.0</td> \n",
       "    </tr></tbody> \n",
       "</table> "
      ],
      "text/plain": [
       "<pandas.io.formats.style.Styler at 0x13e5db257b8>"
      ]
     },
     "metadata": {},
     "output_type": "display_data"
    }
   ],
   "source": [
    "button"
   ]
  },
  {
   "cell_type": "code",
   "execution_count": null,
   "metadata": {},
   "outputs": [],
   "source": [
    "\n",
    "    \n",
    "\n",
    "\n",
    "\n"
   ]
  },
  {
   "cell_type": "code",
   "execution_count": null,
   "metadata": {},
   "outputs": [],
   "source": [
    "with out:\n",
    "    display(results_mFC.style.apply(highlight_row, axis=1).hide_index())"
   ]
  },
  {
   "cell_type": "code",
   "execution_count": null,
   "metadata": {},
   "outputs": [],
   "source": []
  },
  {
   "cell_type": "code",
   "execution_count": null,
   "metadata": {},
   "outputs": [],
   "source": []
  }
 ],
 "metadata": {
  "kernelspec": {
   "display_name": "Python 3",
   "language": "python",
   "name": "python3"
  },
  "language_info": {
   "codemirror_mode": {
    "name": "ipython",
    "version": 3
   },
   "file_extension": ".py",
   "mimetype": "text/x-python",
   "name": "python",
   "nbconvert_exporter": "python",
   "pygments_lexer": "ipython3",
   "version": "3.6.7"
  }
 },
 "nbformat": 4,
 "nbformat_minor": 2
}
